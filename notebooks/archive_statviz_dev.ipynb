{
 "cells": [
  {
   "cell_type": "code",
   "execution_count": 1,
   "id": "feb18414",
   "metadata": {},
   "outputs": [],
   "source": [
    "# Internal StatViz notebook to demonstrate different types of visualizations based on variable combinations\n",
    "# The following variables from COPDGene will be used:\n",
    "# Gender (Male or Female)\n",
    "# Age at enrollment (continuous, min 39.9 max 85)\n",
    "# BMI (continuous, min 12.29 max 64.1)\n",
    "# Asthma: have you ever had asthma (No, Yes, Do not know)"
   ]
  },
  {
   "cell_type": "code",
   "execution_count": 1,
   "id": "c815f3b1",
   "metadata": {
    "scrolled": true
   },
   "outputs": [
    {
     "name": "stdout",
     "output_type": "stream",
     "text": [
      "Requirement already satisfied: numpy>=1.16.4 in /home/ec2-user/anaconda3/envs/python3/lib/python3.6/site-packages (from -r requirements.txt (line 1)) (1.19.5)\n",
      "Requirement already satisfied: matplotlib>=3.1.1 in /home/ec2-user/anaconda3/envs/python3/lib/python3.6/site-packages (from -r requirements.txt (line 2)) (3.3.4)\n",
      "Requirement already satisfied: pandas>=0.25.3 in /home/ec2-user/anaconda3/envs/python3/lib/python3.6/site-packages (from -r requirements.txt (line 3)) (1.1.5)\n",
      "Requirement already satisfied: scipy>=1.3.1 in /home/ec2-user/anaconda3/envs/python3/lib/python3.6/site-packages (from -r requirements.txt (line 4)) (1.5.3)\n",
      "Requirement already satisfied: tqdm>=4.38.0 in /home/ec2-user/anaconda3/envs/python3/lib/python3.6/site-packages (from -r requirements.txt (line 5)) (4.62.3)\n",
      "Requirement already satisfied: statsmodels>=0.10.2 in /home/ec2-user/anaconda3/envs/python3/lib/python3.6/site-packages (from -r requirements.txt (line 6)) (0.12.2)\n",
      "Requirement already satisfied: cycler>=0.10 in /home/ec2-user/anaconda3/envs/python3/lib/python3.6/site-packages (from matplotlib>=3.1.1->-r requirements.txt (line 2)) (0.10.0)\n",
      "Requirement already satisfied: pillow>=6.2.0 in /home/ec2-user/anaconda3/envs/python3/lib/python3.6/site-packages (from matplotlib>=3.1.1->-r requirements.txt (line 2)) (8.4.0)\n",
      "Requirement already satisfied: python-dateutil>=2.1 in /home/ec2-user/anaconda3/envs/python3/lib/python3.6/site-packages (from matplotlib>=3.1.1->-r requirements.txt (line 2)) (2.8.1)\n",
      "Requirement already satisfied: kiwisolver>=1.0.1 in /home/ec2-user/anaconda3/envs/python3/lib/python3.6/site-packages (from matplotlib>=3.1.1->-r requirements.txt (line 2)) (1.3.1)\n",
      "Requirement already satisfied: pyparsing!=2.0.4,!=2.1.2,!=2.1.6,>=2.0.3 in /home/ec2-user/anaconda3/envs/python3/lib/python3.6/site-packages (from matplotlib>=3.1.1->-r requirements.txt (line 2)) (2.4.7)\n",
      "Requirement already satisfied: pytz>=2017.2 in /home/ec2-user/anaconda3/envs/python3/lib/python3.6/site-packages (from pandas>=0.25.3->-r requirements.txt (line 3)) (2021.1)\n",
      "Requirement already satisfied: patsy>=0.5 in /home/ec2-user/anaconda3/envs/python3/lib/python3.6/site-packages (from statsmodels>=0.10.2->-r requirements.txt (line 6)) (0.5.1)\n",
      "Requirement already satisfied: six in /home/ec2-user/anaconda3/envs/python3/lib/python3.6/site-packages (from cycler>=0.10->matplotlib>=3.1.1->-r requirements.txt (line 2)) (1.15.0)\n",
      "Collecting git+https://github.com/hms-dbmi/pic-sure-python-client.git\n",
      "  Cloning https://github.com/hms-dbmi/pic-sure-python-client.git to /tmp/pip-req-build-aywqs7kd\n",
      "  Running command git clone --filter=blob:none -q https://github.com/hms-dbmi/pic-sure-python-client.git /tmp/pip-req-build-aywqs7kd\n",
      "  Resolved https://github.com/hms-dbmi/pic-sure-python-client.git to commit aabcc6574eede2dc3de410c6c75f7f77ea18d23c\n",
      "  Preparing metadata (setup.py) ... \u001b[?25ldone\n",
      "\u001b[?25hBuilding wheels for collected packages: PicSureClient\n",
      "  Building wheel for PicSureClient (setup.py) ... \u001b[?25ldone\n",
      "\u001b[?25h  Created wheel for PicSureClient: filename=PicSureClient-0.1.0-py2.py3-none-any.whl size=10300 sha256=17f9d27ff8d3aa341eec89db1372a2d32f696f0768c20c1a18f72fbc2973109f\n",
      "  Stored in directory: /tmp/pip-ephem-wheel-cache-5kk9b324/wheels/31/ef/21/e362bba8de04e0072fafec9f77bd1abdf7e166213d27e98729\n",
      "Successfully built PicSureClient\n",
      "Installing collected packages: PicSureClient\n",
      "Successfully installed PicSureClient-0.1.0\n",
      "Collecting git+https://github.com/hms-dbmi/pic-sure-python-adapter-hpds.git\n",
      "  Cloning https://github.com/hms-dbmi/pic-sure-python-adapter-hpds.git to /tmp/pip-req-build-t3qieeed\n",
      "  Running command git clone --filter=blob:none -q https://github.com/hms-dbmi/pic-sure-python-adapter-hpds.git /tmp/pip-req-build-t3qieeed\n",
      "  Resolved https://github.com/hms-dbmi/pic-sure-python-adapter-hpds.git to commit 7b5c4b3fd544be200adaf50b17e4e7d6af5778fb\n",
      "  Preparing metadata (setup.py) ... \u001b[?25ldone\n",
      "\u001b[?25hCollecting httplib2\n",
      "  Downloading httplib2-0.20.4-py3-none-any.whl (96 kB)\n",
      "     |████████████████████████████████| 96 kB 7.3 MB/s             \n",
      "\u001b[?25hCollecting pyparsing!=3.0.0,!=3.0.1,!=3.0.2,!=3.0.3,<4,>=2.4.2\n",
      "  Downloading pyparsing-3.0.9-py3-none-any.whl (98 kB)\n",
      "     |████████████████████████████████| 98 kB 11.2 MB/s            \n",
      "\u001b[?25hBuilding wheels for collected packages: PicSureHpdsLib\n",
      "  Building wheel for PicSureHpdsLib (setup.py) ... \u001b[?25ldone\n",
      "\u001b[?25h  Created wheel for PicSureHpdsLib: filename=PicSureHpdsLib-0.9.0-py2.py3-none-any.whl size=22041 sha256=738e6f09d8f6b242a5d5a0b715ecdef92388fec90e5f55a216501c4c2643cf45\n",
      "  Stored in directory: /tmp/pip-ephem-wheel-cache-px_dcksm/wheels/ae/d9/1a/c8c0ac8151b575c845efddc061fe014d86c51d1fd2c408907c\n",
      "Successfully built PicSureHpdsLib\n",
      "Installing collected packages: pyparsing, httplib2, PicSureHpdsLib\n",
      "  Attempting uninstall: pyparsing\n",
      "    Found existing installation: pyparsing 2.4.7\n",
      "    Uninstalling pyparsing-2.4.7:\n",
      "      Successfully uninstalled pyparsing-2.4.7\n",
      "Successfully installed PicSureHpdsLib-0.9.0 httplib2-0.20.4 pyparsing-3.0.9\n",
      "Collecting git+https://github.com/hms-dbmi/pic-sure-biodatacatalyst-python-adapter-hpds.git\n",
      "  Cloning https://github.com/hms-dbmi/pic-sure-biodatacatalyst-python-adapter-hpds.git to /tmp/pip-req-build-z5ab7zxk\n",
      "  Running command git clone --filter=blob:none -q https://github.com/hms-dbmi/pic-sure-biodatacatalyst-python-adapter-hpds.git /tmp/pip-req-build-z5ab7zxk\n",
      "  Resolved https://github.com/hms-dbmi/pic-sure-biodatacatalyst-python-adapter-hpds.git to commit a7905453bf79bd20883d05f5992308a810313255\n",
      "  Preparing metadata (setup.py) ... \u001b[?25ldone\n",
      "\u001b[?25hCollecting httplib2\n",
      "  Using cached httplib2-0.20.4-py3-none-any.whl (96 kB)\n",
      "Collecting pyparsing!=3.0.0,!=3.0.1,!=3.0.2,!=3.0.3,<4,>=2.4.2\n",
      "  Using cached pyparsing-3.0.9-py3-none-any.whl (98 kB)\n",
      "Building wheels for collected packages: PicSureBdcAdapter\n",
      "  Building wheel for PicSureBdcAdapter (setup.py) ... \u001b[?25ldone\n",
      "\u001b[?25h  Created wheel for PicSureBdcAdapter: filename=PicSureBdcAdapter-1.0.0-py3-none-any.whl size=8605 sha256=a7f49da518641251166d48ee80f101f388159ceae57c207d87686a988d3678a4\n",
      "  Stored in directory: /tmp/pip-ephem-wheel-cache-plw4dnsk/wheels/20/c3/f6/72bb8b68322e9bb56152181e827c51c09df269e5f84ed7311b\n",
      "Successfully built PicSureBdcAdapter\n",
      "Installing collected packages: pyparsing, httplib2, PicSureBdcAdapter\n",
      "  Attempting uninstall: pyparsing\n",
      "    Found existing installation: pyparsing 3.0.9\n",
      "    Uninstalling pyparsing-3.0.9:\n",
      "      Successfully uninstalled pyparsing-3.0.9\n",
      "  Attempting uninstall: httplib2\n",
      "    Found existing installation: httplib2 0.20.4\n",
      "    Uninstalling httplib2-0.20.4:\n",
      "      Successfully uninstalled httplib2-0.20.4\n",
      "Successfully installed PicSureBdcAdapter-1.0.0 httplib2-0.20.4 pyparsing-3.0.9\n"
     ]
    }
   ],
   "source": [
    "# Do imports\n",
    "import sys\n",
    "!{sys.executable} -m pip install -r requirements.txt\n",
    "!{sys.executable} -m pip install --upgrade --force-reinstall git+https://github.com/hms-dbmi/pic-sure-python-client.git\n",
    "!{sys.executable} -m pip install --upgrade --force-reinstall git+https://github.com/hms-dbmi/pic-sure-python-adapter-hpds.git\n",
    "!{sys.executable} -m pip install --upgrade --force-reinstall git+https://github.com/hms-dbmi/pic-sure-biodatacatalyst-python-adapter-hpds.git\n",
    "\n",
    "import json\n",
    "from pprint import pprint\n",
    "\n",
    "import pandas as pd\n",
    "import numpy as np \n",
    "import matplotlib.pyplot as plt\n",
    "from scipy import stats\n",
    "\n",
    "import PicSureClient\n",
    "import PicSureBdcAdapter\n",
    "\n",
    "from utils import get_multiIndex_variablesDict, joining_variablesDict_onCol"
   ]
  },
  {
   "cell_type": "code",
   "execution_count": 2,
   "id": "d1f97d1e",
   "metadata": {},
   "outputs": [
    {
     "name": "stdout",
     "output_type": "stream",
     "text": [
      "\u001b[38;5;91;40m\n",
      "\n",
      "+=========================================================================================+\n",
      "|        [ WARNING ] you are specifying that you WANT to allow self-signed SSL            |\n",
      "|        certificates to be acceptable for connections.  This may be useful for           |\n",
      "|        working in a development environment or on systems that host public              |\n",
      "|        data.  BEST SECURITY PRACTICES ARE THAT IF YOU ARE WORKING WITH SENSITIVE        |\n",
      "|        DATA THEN ALL SSL CERTS BY THOSE EVIRONMENTS SHOULD NOT BE SELF-SIGNED.          |\n",
      "+=========================================================================================+\n",
      "\u001b[39;49m\n",
      "+--------------------------------------+------------------------------------------------------+\n",
      "|  Resource UUID                       |  Resource Name                                       |\n",
      "+--------------------------------------+------------------------------------------------------+\n",
      "| 02e23f52-f354-4e8b-992c-d37c8b9ba140 |                                                      |\n",
      "| 70c837be-5ffc-11eb-ae93-0242ac130002 |                                                      |\n",
      "+--------------------------------------+------------------------------------------------------+\n"
     ]
    }
   ],
   "source": [
    "# Connect to PIC-SURE\n",
    "PICSURE_network_URL = \"https://picsure.biodatacatalyst.nhlbi.nih.gov/picsure\"\n",
    "resource_id = \"02e23f52-f354-4e8b-992c-d37c8b9ba140\"\n",
    "token_file = \"token.txt\"\n",
    "with open(token_file, \"r\") as f:\n",
    "    my_token = f.read()\n",
    "client = PicSureClient.Client()\n",
    "connection = client.connect(PICSURE_network_URL, my_token, True)\n",
    "adapter = PicSureBdcAdapter.Adapter(connection)\n",
    "resource = adapter.useResource(resource_id)"
   ]
  },
  {
   "cell_type": "code",
   "execution_count": 4,
   "id": "70940421",
   "metadata": {},
   "outputs": [],
   "source": [
    "# Get all COPDGene variables - find those of interest\n",
    "plain_variablesDict = resource.dictionary().find(\"COPDGene\").DataFrame()\n",
    "gender_mask = [\"\\\\Gender\\\\\" in i for i in plain_variablesDict.index]\n",
    "gender = plain_variablesDict[gender_mask].index[0]\n",
    "age_mask = ['\\\\Age at enrollment\\\\' in i for i in plain_variablesDict.index]\n",
    "age = plain_variablesDict[age_mask].index[0]\n",
    "bmi_mask = [\"\\\\BMI\\\\\" in i for i in plain_variablesDict.index]\n",
    "bmi = plain_variablesDict[bmi_mask].index[0]\n",
    "asthma_mask = ['\\\\Asthma: have you ever had asthma' in i for i in plain_variablesDict.index]\n",
    "asthma = plain_variablesDict[asthma_mask].index[0]\n",
    "all_vars = [gender, age, bmi, asthma]"
   ]
  },
  {
   "cell_type": "code",
   "execution_count": 5,
   "id": "8d600388",
   "metadata": {},
   "outputs": [],
   "source": [
    "# Build query and export data\n",
    "query = resource.query()\n",
    "query.anyof().add(all_vars)\n",
    "query_result = query.getResultsDataFrame(low_memory=False)"
   ]
  },
  {
   "cell_type": "code",
   "execution_count": 6,
   "id": "cc3d5af4",
   "metadata": {},
   "outputs": [],
   "source": [
    "# Clean up dataframe\n",
    "new_cols = []\n",
    "for i in query_result.columns:\n",
    "    splits = i.split(\"\\\\\")\n",
    "    if splits[-1] == '':\n",
    "        new_cols.append(splits[-2])\n",
    "    else:\n",
    "        new_cols.append(splits[-1])\n",
    "#print(new_cols)\n",
    "query_result.columns = new_cols"
   ]
  },
  {
   "cell_type": "code",
   "execution_count": 7,
   "id": "f8f64c1f",
   "metadata": {},
   "outputs": [
    {
     "data": {
      "text/html": [
       "<div>\n",
       "<style scoped>\n",
       "    .dataframe tbody tr th:only-of-type {\n",
       "        vertical-align: middle;\n",
       "    }\n",
       "\n",
       "    .dataframe tbody tr th {\n",
       "        vertical-align: top;\n",
       "    }\n",
       "\n",
       "    .dataframe thead th {\n",
       "        text-align: right;\n",
       "    }\n",
       "</style>\n",
       "<table border=\"1\" class=\"dataframe\">\n",
       "  <thead>\n",
       "    <tr style=\"text-align: right;\">\n",
       "      <th></th>\n",
       "      <th>Patient ID</th>\n",
       "      <th>Age at enrollment</th>\n",
       "      <th>Asthma: have you ever had asthma</th>\n",
       "      <th>BMI</th>\n",
       "      <th>Gender</th>\n",
       "      <th>_Parent Study Accession with Subject ID</th>\n",
       "      <th>_Topmed Study Accession with Subject ID</th>\n",
       "      <th>_consents</th>\n",
       "    </tr>\n",
       "  </thead>\n",
       "  <tbody>\n",
       "    <tr>\n",
       "      <th>0</th>\n",
       "      <td>35416</td>\n",
       "      <td>65.5</td>\n",
       "      <td>No</td>\n",
       "      <td>20.28</td>\n",
       "      <td>Female</td>\n",
       "      <td>phs000179.v6_COPDGene_A00282</td>\n",
       "      <td>phs000951.v4_COPDGene_A00282</td>\n",
       "      <td>phs000179.c2</td>\n",
       "    </tr>\n",
       "    <tr>\n",
       "      <th>1</th>\n",
       "      <td>35417</td>\n",
       "      <td>50.3</td>\n",
       "      <td>No</td>\n",
       "      <td>19.61</td>\n",
       "      <td>Male</td>\n",
       "      <td>phs000179.v6_COPDGene_A00444</td>\n",
       "      <td>phs000951.v4_COPDGene_A00444</td>\n",
       "      <td>phs000179.c1</td>\n",
       "    </tr>\n",
       "    <tr>\n",
       "      <th>2</th>\n",
       "      <td>35419</td>\n",
       "      <td>52.2</td>\n",
       "      <td>No</td>\n",
       "      <td>53.75</td>\n",
       "      <td>Female</td>\n",
       "      <td>phs000179.v6_COPDGene_A01052</td>\n",
       "      <td>phs000951.v4_COPDGene_A01052</td>\n",
       "      <td>phs000179.c1</td>\n",
       "    </tr>\n",
       "    <tr>\n",
       "      <th>3</th>\n",
       "      <td>35420</td>\n",
       "      <td>62.8</td>\n",
       "      <td>No</td>\n",
       "      <td>22.66</td>\n",
       "      <td>Female</td>\n",
       "      <td>phs000179.v6_COPDGene_A01133</td>\n",
       "      <td>phs000951.v4_COPDGene_A01133</td>\n",
       "      <td>phs000179.c1</td>\n",
       "    </tr>\n",
       "    <tr>\n",
       "      <th>4</th>\n",
       "      <td>35421</td>\n",
       "      <td>57.5</td>\n",
       "      <td>Yes</td>\n",
       "      <td>40.58</td>\n",
       "      <td>Female</td>\n",
       "      <td>phs000179.v6_COPDGene_A01220</td>\n",
       "      <td>phs000951.v4_COPDGene_A01220</td>\n",
       "      <td>phs000179.c1</td>\n",
       "    </tr>\n",
       "    <tr>\n",
       "      <th>...</th>\n",
       "      <td>...</td>\n",
       "      <td>...</td>\n",
       "      <td>...</td>\n",
       "      <td>...</td>\n",
       "      <td>...</td>\n",
       "      <td>...</td>\n",
       "      <td>...</td>\n",
       "      <td>...</td>\n",
       "    </tr>\n",
       "    <tr>\n",
       "      <th>10366</th>\n",
       "      <td>46110</td>\n",
       "      <td>52.8</td>\n",
       "      <td>No</td>\n",
       "      <td>33.57</td>\n",
       "      <td>Female</td>\n",
       "      <td>phs000179.v6_COPDGene_Y07242</td>\n",
       "      <td>NaN</td>\n",
       "      <td>phs000179.c1</td>\n",
       "    </tr>\n",
       "    <tr>\n",
       "      <th>10367</th>\n",
       "      <td>46111</td>\n",
       "      <td>61.9</td>\n",
       "      <td>Yes</td>\n",
       "      <td>24.87</td>\n",
       "      <td>Female</td>\n",
       "      <td>phs000179.v6_COPDGene_Y23466</td>\n",
       "      <td>NaN</td>\n",
       "      <td>phs000179.c1</td>\n",
       "    </tr>\n",
       "    <tr>\n",
       "      <th>10368</th>\n",
       "      <td>46112</td>\n",
       "      <td>51.7</td>\n",
       "      <td>Yes</td>\n",
       "      <td>22.78</td>\n",
       "      <td>Female</td>\n",
       "      <td>phs000179.v6_COPDGene_Y40862</td>\n",
       "      <td>NaN</td>\n",
       "      <td>phs000179.c1</td>\n",
       "    </tr>\n",
       "    <tr>\n",
       "      <th>10369</th>\n",
       "      <td>46113</td>\n",
       "      <td>50.0</td>\n",
       "      <td>No</td>\n",
       "      <td>25.09</td>\n",
       "      <td>Male</td>\n",
       "      <td>phs000179.v6_COPDGene_Y76409</td>\n",
       "      <td>NaN</td>\n",
       "      <td>phs000179.c2</td>\n",
       "    </tr>\n",
       "    <tr>\n",
       "      <th>10370</th>\n",
       "      <td>46114</td>\n",
       "      <td>62.1</td>\n",
       "      <td>No</td>\n",
       "      <td>32.79</td>\n",
       "      <td>Female</td>\n",
       "      <td>phs000179.v6_COPDGene_Z28895</td>\n",
       "      <td>NaN</td>\n",
       "      <td>phs000179.c1</td>\n",
       "    </tr>\n",
       "  </tbody>\n",
       "</table>\n",
       "<p>10371 rows × 8 columns</p>\n",
       "</div>"
      ],
      "text/plain": [
       "       Patient ID  Age at enrollment Asthma: have you ever had asthma    BMI  \\\n",
       "0           35416               65.5                               No  20.28   \n",
       "1           35417               50.3                               No  19.61   \n",
       "2           35419               52.2                               No  53.75   \n",
       "3           35420               62.8                               No  22.66   \n",
       "4           35421               57.5                              Yes  40.58   \n",
       "...           ...                ...                              ...    ...   \n",
       "10366       46110               52.8                               No  33.57   \n",
       "10367       46111               61.9                              Yes  24.87   \n",
       "10368       46112               51.7                              Yes  22.78   \n",
       "10369       46113               50.0                               No  25.09   \n",
       "10370       46114               62.1                               No  32.79   \n",
       "\n",
       "       Gender _Parent Study Accession with Subject ID  \\\n",
       "0      Female            phs000179.v6_COPDGene_A00282   \n",
       "1        Male            phs000179.v6_COPDGene_A00444   \n",
       "2      Female            phs000179.v6_COPDGene_A01052   \n",
       "3      Female            phs000179.v6_COPDGene_A01133   \n",
       "4      Female            phs000179.v6_COPDGene_A01220   \n",
       "...       ...                                     ...   \n",
       "10366  Female            phs000179.v6_COPDGene_Y07242   \n",
       "10367  Female            phs000179.v6_COPDGene_Y23466   \n",
       "10368  Female            phs000179.v6_COPDGene_Y40862   \n",
       "10369    Male            phs000179.v6_COPDGene_Y76409   \n",
       "10370  Female            phs000179.v6_COPDGene_Z28895   \n",
       "\n",
       "      _Topmed Study Accession with Subject ID     _consents  \n",
       "0                phs000951.v4_COPDGene_A00282  phs000179.c2  \n",
       "1                phs000951.v4_COPDGene_A00444  phs000179.c1  \n",
       "2                phs000951.v4_COPDGene_A01052  phs000179.c1  \n",
       "3                phs000951.v4_COPDGene_A01133  phs000179.c1  \n",
       "4                phs000951.v4_COPDGene_A01220  phs000179.c1  \n",
       "...                                       ...           ...  \n",
       "10366                                     NaN  phs000179.c1  \n",
       "10367                                     NaN  phs000179.c1  \n",
       "10368                                     NaN  phs000179.c1  \n",
       "10369                                     NaN  phs000179.c2  \n",
       "10370                                     NaN  phs000179.c1  \n",
       "\n",
       "[10371 rows x 8 columns]"
      ]
     },
     "execution_count": 7,
     "metadata": {},
     "output_type": "execute_result"
    }
   ],
   "source": [
    "query_result"
   ]
  },
  {
   "cell_type": "code",
   "execution_count": 8,
   "id": "5fce4054",
   "metadata": {},
   "outputs": [
    {
     "data": {
      "image/png": "[encoded data removed]",
      "text/plain": [
       "<Figure size 432x288 with 1 Axes>"
      ]
     },
     "metadata": {},
     "output_type": "display_data"
    }
   ],
   "source": [
    "# Scenario 1: One categorical (asthma)\n",
    "# Pie plot\n",
    "no = sum(query_result[\"Asthma: have you ever had asthma\"] == 'No')\n",
    "#print(no)\n",
    "yes = sum(query_result[\"Asthma: have you ever had asthma\"] == 'Yes')\n",
    "#print(yes)\n",
    "idk = sum(query_result[\"Asthma: have you ever had asthma\"] == 'Do not know')\n",
    "#print(idk)\n",
    "fig, ax = plt.subplots()\n",
    "ax.pie([no, yes, idk], labels=[\"No\", \"Yes\", \"Do not know\"])\n",
    "ax.set_title(\"Asthma: have you ever had asthma\")\n",
    "plt.show()"
   ]
  },
  {
   "cell_type": "code",
   "execution_count": 9,
   "id": "9e668eb4",
   "metadata": {},
   "outputs": [
    {
     "data": {
      "image/png": "[encoded data removed]",
      "text/plain": [
       "<Figure size 432x288 with 1 Axes>"
      ]
     },
     "metadata": {
      "needs_background": "light"
     },
     "output_type": "display_data"
    }
   ],
   "source": [
    "# Scenario 2: One continuous (BMI)\n",
    "# histogram\n",
    "fig, ax = plt.subplots()\n",
    "ax.hist(query_result[\"BMI\"])\n",
    "ax.set_title(\"BMI\")\n",
    "plt.show()"
   ]
  },
  {
   "cell_type": "code",
   "execution_count": 10,
   "id": "b205f907",
   "metadata": {},
   "outputs": [
    {
     "data": {
      "image/png": "[encoded data removed]",
      "text/plain": [
       "<Figure size 432x288 with 1 Axes>"
      ]
     },
     "metadata": {
      "needs_background": "light"
     },
     "output_type": "display_data"
    }
   ],
   "source": [
    "# Scenario 3: Continuous x, categorical y (BMI on x, asthma on y)\n",
    "# boxplot\n",
    "# make data:\n",
    "#np.random.seed(10)\n",
    "#D = np.random.normal((3, 5, 4), (1.25, 1.00, 1.25), (100, 3))\n",
    "no_mask = query_result[\"Asthma: have you ever had asthma\"] == 'No'\n",
    "yes_mask = query_result[\"Asthma: have you ever had asthma\"] == 'Yes'\n",
    "idk_mask = query_result[\"Asthma: have you ever had asthma\"] == 'Do not know'\n",
    "\n",
    "data = [query_result.BMI[no_mask], query_result.BMI[yes_mask], query_result.BMI[idk_mask]]\n",
    "\n",
    "# plot\n",
    "fig, ax = plt.subplots()\n",
    "ax.boxplot(data, labels=['No', 'Yes', 'Do not know'])\n",
    "ax.set_ylabel(\"BMI\")\n",
    "ax.set_xlabel(\"Asthma: have you ever had asthma\")\n",
    "plt.show()"
   ]
  },
  {
   "cell_type": "code",
   "execution_count": 12,
   "id": "b1df3fab",
   "metadata": {},
   "outputs": [
    {
     "data": {
      "image/png": "[encoded data removed]",
      "text/plain": [
       "<Figure size 432x288 with 1 Axes>"
      ]
     },
     "metadata": {
      "needs_background": "light"
     },
     "output_type": "display_data"
    }
   ],
   "source": [
    "# Scenario 4: Continuous vs continuous (BMI vs Age)\n",
    "# Scatter plot\n",
    "fig, ax = plt.subplots()\n",
    "ax.scatter(query_result[\"Age at enrollment\"], query_result['BMI'])\n",
    "ax.set_ylabel(\"BMI\")\n",
    "ax.set_xlabel(\"Age at enrollment\")\n",
    "plt.show()"
   ]
  },
  {
   "cell_type": "code",
   "execution_count": 21,
   "id": "b6283e47",
   "metadata": {},
   "outputs": [
    {
     "data": {
      "text/plain": [
       "<matplotlib.legend.Legend at 0x7f3fabcd8c18>"
      ]
     },
     "execution_count": 21,
     "metadata": {},
     "output_type": "execute_result"
    },
    {
     "data": {
      "image/png": "[encoded data removed]",
      "text/plain": [
       "<Figure size 432x288 with 1 Axes>"
      ]
     },
     "metadata": {
      "needs_background": "light"
     },
     "output_type": "display_data"
    }
   ],
   "source": [
    "# Scenario 5: Continuous vs Continuous, grouped by categorical (BMI vs age, grouped by asthma status)\n",
    "fig, ax = plt.subplots()\n",
    "#ax.scatter(query_result[\"Age at enrollment\"], query_result['BMI'], c=query_result['Asthma: have you ever had asthma']\n",
    "\n",
    "groups = query_result.groupby('Asthma: have you ever had asthma')\n",
    "for name, group in groups:\n",
    "    ax.plot(group['Age at enrollment'], group['BMI'], marker='o', linestyle='', markersize=12, label=name, alpha = 0.25)\n",
    "ax.set_ylabel(\"BMI\")\n",
    "ax.set_xlabel(\"Age at enrollment\")\n",
    "plt.legend(title=\"Asthma: have you ever had asthma\")"
   ]
  },
  {
   "cell_type": "code",
   "execution_count": 3,
   "id": "cce2d262",
   "metadata": {},
   "outputs": [],
   "source": [
    "plain_variablesDict = resource.dictionary().find(\"CHS\").DataFrame()"
   ]
  },
  {
   "cell_type": "code",
   "execution_count": 4,
   "id": "48f2572d",
   "metadata": {},
   "outputs": [],
   "source": [
    "# Statviz v2 visualization example\n",
    "bmi_mask = [\"\\\\BODY MASS INDEX\\\\\" in i for i in plain_variablesDict.index]\n",
    "bmi = plain_variablesDict[bmi_mask].index[0]\n",
    "asthma_mask = [\"\\\\Ever asthma confirmed by a doctor\\\\\" in i for i in plain_variablesDict.index]\n",
    "asthma = plain_variablesDict[asthma_mask].index[0]\n",
    "gender_mask = [\"\\\\Gender\\\\\" in i for i in plain_variablesDict.index]\n",
    "gender = plain_variablesDict[gender_mask].index[0]\n",
    "all_vars = [bmi, asthma, gender]\n",
    "# Build query and export data\n",
    "query = resource.query()\n",
    "query.anyof().add(all_vars)\n",
    "query_result = query.getResultsDataFrame(low_memory=False)"
   ]
  },
  {
   "cell_type": "code",
   "execution_count": 5,
   "id": "7e1f0b74",
   "metadata": {},
   "outputs": [],
   "source": [
    "# Clean up dataframe\n",
    "new_cols = []\n",
    "for i in query_result.columns:\n",
    "    splits = i.split(\"\\\\\")\n",
    "    if splits[-1] == '':\n",
    "        new_cols.append(splits[-2])\n",
    "    else:\n",
    "        new_cols.append(splits[-1])\n",
    "#print(new_cols)\n",
    "query_result.columns = new_cols"
   ]
  },
  {
   "cell_type": "code",
   "execution_count": 6,
   "id": "74190a9e",
   "metadata": {},
   "outputs": [
    {
     "data": {
      "text/html": [
       "<div>\n",
       "<style scoped>\n",
       "    .dataframe tbody tr th:only-of-type {\n",
       "        vertical-align: middle;\n",
       "    }\n",
       "\n",
       "    .dataframe tbody tr th {\n",
       "        vertical-align: top;\n",
       "    }\n",
       "\n",
       "    .dataframe thead th {\n",
       "        text-align: right;\n",
       "    }\n",
       "</style>\n",
       "<table border=\"1\" class=\"dataframe\">\n",
       "  <thead>\n",
       "    <tr style=\"text-align: right;\">\n",
       "      <th></th>\n",
       "      <th>Patient ID</th>\n",
       "      <th>BODY MASS INDEX</th>\n",
       "      <th>Gender</th>\n",
       "      <th>Ever asthma confirmed by a doctor</th>\n",
       "      <th>_Parent Study Accession with Subject ID</th>\n",
       "      <th>_Topmed Study Accession with Subject ID</th>\n",
       "      <th>_consents</th>\n",
       "    </tr>\n",
       "  </thead>\n",
       "  <tbody>\n",
       "    <tr>\n",
       "      <th>0</th>\n",
       "      <td>28791</td>\n",
       "      <td>41.645475</td>\n",
       "      <td>Female</td>\n",
       "      <td>NO</td>\n",
       "      <td>phs000287.v7_100051</td>\n",
       "      <td>NaN</td>\n",
       "      <td>phs000287.c1</td>\n",
       "    </tr>\n",
       "    <tr>\n",
       "      <th>1</th>\n",
       "      <td>28792</td>\n",
       "      <td>32.059293</td>\n",
       "      <td>Male</td>\n",
       "      <td>NO</td>\n",
       "      <td>phs000287.v7_100425</td>\n",
       "      <td>phs001368.v2_100425</td>\n",
       "      <td>phs000287.c1</td>\n",
       "    </tr>\n",
       "    <tr>\n",
       "      <th>2</th>\n",
       "      <td>28793</td>\n",
       "      <td>19.928132</td>\n",
       "      <td>NaN</td>\n",
       "      <td>NaN</td>\n",
       "      <td>phs000287.v7_100434</td>\n",
       "      <td>phs001368.v2_100434</td>\n",
       "      <td>phs000287.c1</td>\n",
       "    </tr>\n",
       "    <tr>\n",
       "      <th>3</th>\n",
       "      <td>28794</td>\n",
       "      <td>19.928132</td>\n",
       "      <td>NaN</td>\n",
       "      <td>NO</td>\n",
       "      <td>phs000287.v7_100854</td>\n",
       "      <td>NaN</td>\n",
       "      <td>phs000287.c1</td>\n",
       "    </tr>\n",
       "    <tr>\n",
       "      <th>4</th>\n",
       "      <td>28795</td>\n",
       "      <td>23.678376</td>\n",
       "      <td>NaN</td>\n",
       "      <td>NO</td>\n",
       "      <td>phs000287.v7_101032</td>\n",
       "      <td>phs001368.v2_101032</td>\n",
       "      <td>phs000287.c1</td>\n",
       "    </tr>\n",
       "    <tr>\n",
       "      <th>...</th>\n",
       "      <td>...</td>\n",
       "      <td>...</td>\n",
       "      <td>...</td>\n",
       "      <td>...</td>\n",
       "      <td>...</td>\n",
       "      <td>...</td>\n",
       "      <td>...</td>\n",
       "    </tr>\n",
       "    <tr>\n",
       "      <th>5525</th>\n",
       "      <td>34408</td>\n",
       "      <td>24.491361</td>\n",
       "      <td>NaN</td>\n",
       "      <td>NO</td>\n",
       "      <td>phs000287.v7_621121</td>\n",
       "      <td>phs001368.v2_621121</td>\n",
       "      <td>phs000287.c1</td>\n",
       "    </tr>\n",
       "    <tr>\n",
       "      <th>5526</th>\n",
       "      <td>34409</td>\n",
       "      <td>26.522016</td>\n",
       "      <td>NaN</td>\n",
       "      <td>NO</td>\n",
       "      <td>phs000287.v7_708028</td>\n",
       "      <td>phs001368.v2_708028</td>\n",
       "      <td>phs000287.c1</td>\n",
       "    </tr>\n",
       "    <tr>\n",
       "      <th>5527</th>\n",
       "      <td>34410</td>\n",
       "      <td>30.636578</td>\n",
       "      <td>NaN</td>\n",
       "      <td>NO</td>\n",
       "      <td>phs000287.v7_708270</td>\n",
       "      <td>phs001368.v2_708270</td>\n",
       "      <td>phs000287.c2</td>\n",
       "    </tr>\n",
       "    <tr>\n",
       "      <th>5528</th>\n",
       "      <td>34411</td>\n",
       "      <td>20.926169</td>\n",
       "      <td>NaN</td>\n",
       "      <td>NO</td>\n",
       "      <td>phs000287.v7_746158</td>\n",
       "      <td>phs001368.v2_746158</td>\n",
       "      <td>phs000287.c1</td>\n",
       "    </tr>\n",
       "    <tr>\n",
       "      <th>5529</th>\n",
       "      <td>34412</td>\n",
       "      <td>33.744585</td>\n",
       "      <td>NaN</td>\n",
       "      <td>NO</td>\n",
       "      <td>phs000287.v7_881795</td>\n",
       "      <td>phs001368.v2_881795</td>\n",
       "      <td>phs000287.c1</td>\n",
       "    </tr>\n",
       "  </tbody>\n",
       "</table>\n",
       "<p>5530 rows × 7 columns</p>\n",
       "</div>"
      ],
      "text/plain": [
       "      Patient ID  BODY MASS INDEX  Gender Ever asthma confirmed by a doctor  \\\n",
       "0          28791        41.645475  Female                                NO   \n",
       "1          28792        32.059293    Male                                NO   \n",
       "2          28793        19.928132     NaN                               NaN   \n",
       "3          28794        19.928132     NaN                                NO   \n",
       "4          28795        23.678376     NaN                                NO   \n",
       "...          ...              ...     ...                               ...   \n",
       "5525       34408        24.491361     NaN                                NO   \n",
       "5526       34409        26.522016     NaN                                NO   \n",
       "5527       34410        30.636578     NaN                                NO   \n",
       "5528       34411        20.926169     NaN                                NO   \n",
       "5529       34412        33.744585     NaN                                NO   \n",
       "\n",
       "     _Parent Study Accession with Subject ID  \\\n",
       "0                        phs000287.v7_100051   \n",
       "1                        phs000287.v7_100425   \n",
       "2                        phs000287.v7_100434   \n",
       "3                        phs000287.v7_100854   \n",
       "4                        phs000287.v7_101032   \n",
       "...                                      ...   \n",
       "5525                     phs000287.v7_621121   \n",
       "5526                     phs000287.v7_708028   \n",
       "5527                     phs000287.v7_708270   \n",
       "5528                     phs000287.v7_746158   \n",
       "5529                     phs000287.v7_881795   \n",
       "\n",
       "     _Topmed Study Accession with Subject ID     _consents  \n",
       "0                                        NaN  phs000287.c1  \n",
       "1                        phs001368.v2_100425  phs000287.c1  \n",
       "2                        phs001368.v2_100434  phs000287.c1  \n",
       "3                                        NaN  phs000287.c1  \n",
       "4                        phs001368.v2_101032  phs000287.c1  \n",
       "...                                      ...           ...  \n",
       "5525                     phs001368.v2_621121  phs000287.c1  \n",
       "5526                     phs001368.v2_708028  phs000287.c1  \n",
       "5527                     phs001368.v2_708270  phs000287.c2  \n",
       "5528                     phs001368.v2_746158  phs000287.c1  \n",
       "5529                     phs001368.v2_881795  phs000287.c1  \n",
       "\n",
       "[5530 rows x 7 columns]"
      ]
     },
     "execution_count": 6,
     "metadata": {},
     "output_type": "execute_result"
    }
   ],
   "source": [
    "query_result"
   ]
  },
  {
   "cell_type": "code",
   "execution_count": 17,
   "id": "1a130181",
   "metadata": {},
   "outputs": [
    {
     "data": {
      "image/png": "[encoded data removed]",
      "text/plain": [
       "<Figure size 576x576 with 1 Axes>"
      ]
     },
     "metadata": {
      "needs_background": "light"
     },
     "output_type": "display_data"
    }
   ],
   "source": [
    "fig, ax = plt.subplots()\n",
    "\n",
    "ax = query_result['Ever asthma confirmed by a doctor'].value_counts().plot(kind='bar',\n",
    "                                    figsize=(8,8),\n",
    "                                    title=\"\")\n",
    "#ax.set_xlabel(\"Owner Names\")\n",
    "#ax.set_ylabel(\"Frequency\")"
   ]
  },
  {
   "cell_type": "code",
   "execution_count": 44,
   "id": "580733ec",
   "metadata": {},
   "outputs": [],
   "source": [
    "#fig, ax = plt.subplots()\n",
    "no = query_result['Ever asthma confirmed by a doctor'] == 'NO'#['BODY MASS INDEX']\n",
    "yes = query_result['Ever asthma confirmed by a doctor'] == 'YES'#['BODY MASS INDEX']\n",
    "#full = [query_result['BODY MASS INDEX', no] yes]\n",
    "#fig, ax = plt.subplots()\n",
    "#ax.boxplot(full, labels=['NO', 'YES'])\n",
    "#ax.set_ylabel(\"BMI\")\n",
    "#ax.set_xlabel(\"Asthma: have you ever had asthma\")\n",
    "#plt.show()"
   ]
  },
  {
   "cell_type": "code",
   "execution_count": 51,
   "id": "84b787d1",
   "metadata": {},
   "outputs": [],
   "source": [
    "full = [query_result['BODY MASS INDEX'].loc[no], query_result['BODY MASS INDEX'].loc[yes]]"
   ]
  },
  {
   "cell_type": "code",
   "execution_count": 53,
   "id": "eb5a630b",
   "metadata": {},
   "outputs": [
    {
     "data": {
      "text/plain": [
       "{'whiskers': [<matplotlib.lines.Line2D at 0x7fe1ec5c37b8>,\n",
       "  <matplotlib.lines.Line2D at 0x7fe1ec5c39e8>,\n",
       "  <matplotlib.lines.Line2D at 0x7fe1ec5b8c18>,\n",
       "  <matplotlib.lines.Line2D at 0x7fe1ec5b8940>],\n",
       " 'caps': [<matplotlib.lines.Line2D at 0x7fe1ec5c3240>,\n",
       "  <matplotlib.lines.Line2D at 0x7fe1ec5c3080>,\n",
       "  <matplotlib.lines.Line2D at 0x7fe1ec5b8630>,\n",
       "  <matplotlib.lines.Line2D at 0x7fe1ec5b8518>],\n",
       " 'boxes': [<matplotlib.lines.Line2D at 0x7fe1ec5c3eb8>,\n",
       "  <matplotlib.lines.Line2D at 0x7fe1ec98d5c0>],\n",
       " 'medians': [<matplotlib.lines.Line2D at 0x7fe1ec98d320>,\n",
       "  <matplotlib.lines.Line2D at 0x7fe1ec5b8208>],\n",
       " 'fliers': [<matplotlib.lines.Line2D at 0x7fe1ec98deb8>,\n",
       "  <matplotlib.lines.Line2D at 0x7fe1ec5fa6a0>],\n",
       " 'means': []}"
      ]
     },
     "execution_count": 53,
     "metadata": {},
     "output_type": "execute_result"
    },
    {
     "data": {
      "image/png": "[encoded data removed]",
      "text/plain": [
       "<Figure size 432x288 with 1 Axes>"
      ]
     },
     "metadata": {
      "needs_background": "light"
     },
     "output_type": "display_data"
    }
   ],
   "source": [
    "fig, ax = plt.subplots()\n",
    "ax.boxplot(full, labels=['NO', 'YES'])\n",
    "#ax.set_ylabel(\"BMI\")\n",
    "#ax.set_xlabel(\"Asthma: have you ever had asthma\")\n",
    "#plt.show()"
   ]
  },
  {
   "cell_type": "code",
   "execution_count": 54,
   "id": "5df8e98f",
   "metadata": {},
   "outputs": [],
   "source": [
    "import numpy as np\n",
    "np.random.seed(10)\n",
    "data = np.random.normal(100, 20, 200)"
   ]
  },
  {
   "cell_type": "code",
   "execution_count": 57,
   "id": "4ba47f16",
   "metadata": {},
   "outputs": [
    {
     "data": {
      "text/plain": [
       "{'whiskers': [<matplotlib.lines.Line2D at 0x7fe1ec464be0>,\n",
       "  <matplotlib.lines.Line2D at 0x7fe1ec464eb8>],\n",
       " 'caps': [<matplotlib.lines.Line2D at 0x7fe1ec4711d0>,\n",
       "  <matplotlib.lines.Line2D at 0x7fe1ec4714a8>],\n",
       " 'boxes': [<matplotlib.lines.Line2D at 0x7fe1ec464978>],\n",
       " 'medians': [<matplotlib.lines.Line2D at 0x7fe1ec471780>],\n",
       " 'fliers': [<matplotlib.lines.Line2D at 0x7fe1ec471a58>],\n",
       " 'means': []}"
      ]
     },
     "execution_count": 57,
     "metadata": {},
     "output_type": "execute_result"
    },
    {
     "data": {
      "image/png": "[encoded data removed]",
      "text/plain": [
       "<Figure size 432x288 with 1 Axes>"
      ]
     },
     "metadata": {
      "needs_background": "light"
     },
     "output_type": "display_data"
    }
   ],
   "source": [
    "fig, ax = plt.subplots()\n",
    "ax.boxplot(data, labels=['NO'])"
   ]
  },
  {
   "cell_type": "code",
   "execution_count": 59,
   "id": "5818d5a6",
   "metadata": {},
   "outputs": [
    {
     "name": "stderr",
     "output_type": "stream",
     "text": [
      "/home/ec2-user/anaconda3/envs/python3/lib/python3.6/site-packages/ipykernel/__main__.py:1: VisibleDeprecationWarning: Creating an ndarray from ragged nested sequences (which is a list-or-tuple of lists-or-tuples-or ndarrays with different lengths or shapes) is deprecated. If you meant to do this, you must specify 'dtype=object' when creating the ndarray\n",
      "  if __name__ == '__main__':\n"
     ]
    },
    {
     "data": {
      "text/plain": [
       "array([0       41.645475\n",
       "1       32.059293\n",
       "3       19.928132\n",
       "4       23.678376\n",
       "5       21.346278\n",
       "          ...    \n",
       "5525    24.491361\n",
       "5526    26.522016\n",
       "5527    30.636578\n",
       "5528    20.926169\n",
       "5529    33.744585\n",
       "Name: BODY MASS INDEX, Length: 4505, dtype: float64,\n",
       "       35      27.729230\n",
       "51      26.280486\n",
       "53      21.999093\n",
       "58      24.140711\n",
       "65      25.074275\n",
       "          ...    \n",
       "5498    29.642587\n",
       "5500    27.279324\n",
       "5501    29.873144\n",
       "5521    25.547309\n",
       "5523    21.112277\n",
       "Name: BODY MASS INDEX, Length: 322, dtype: float64], dtype=object)"
      ]
     },
     "execution_count": 59,
     "metadata": {},
     "output_type": "execute_result"
    }
   ],
   "source": [
    "np.array(full)"
   ]
  },
  {
   "cell_type": "code",
   "execution_count": 60,
   "id": "ed245d74",
   "metadata": {},
   "outputs": [
    {
     "data": {
      "text/plain": [
       "array([126.63173008, 114.30557949,  69.09199416,  99.832323  ,\n",
       "       112.42671948,  85.59828879, 105.31023171, 102.17097051,\n",
       "       100.08582862,  96.50799579, 108.6605238 , 124.06074748,\n",
       "        80.69868659, 120.56548156, 104.5726026 , 108.90275226,\n",
       "        77.26795576, 102.70273757, 129.69074004,  78.40390228,\n",
       "        60.44543439,  65.13255408, 105.32140328, 147.69934661,\n",
       "       122.47382507, 133.45244427, 101.98298432, 127.95992754,\n",
       "        94.57504024, 112.2640837 ,  94.65365623,  89.01381972,\n",
       "       102.65416592,  90.4771597 , 126.16946162, 103.90026558,\n",
       "       108.00419977,  93.24735326, 125.12944528,  85.36060996,\n",
       "       113.20463102,  92.98256217,  81.2113328 ,  90.21325566,\n",
       "        83.90817715,  95.74604723,  93.21719508, 106.24339873,\n",
       "       111.30305339,  97.05159485,  99.48189326, 105.78188408,\n",
       "        89.20241857, 114.1632004 , 116.84449477, 104.07161595,\n",
       "       147.8940733 , 118.34917875,  97.75455058,  92.75639106,\n",
       "        95.35635488,  89.96542201, 122.57570306,  86.04379939,\n",
       "        98.37755632,  89.41407838, 120.92365714,  71.62887942,\n",
       "        92.75001634,  97.56188618, 106.38712842, 109.21805803,\n",
       "        95.68420215, 119.78144915, 106.29507558, 149.35302113,\n",
       "        69.83357026, 112.41201326,  79.09734925,  84.03982365,\n",
       "       139.70169183, 134.89628297,  62.87629039,  95.54452602,\n",
       "        98.68304305,  57.36575783,  99.02338977, 107.86682434,\n",
       "       104.3453029 ,  60.11212461, 122.1541647 , 104.89087953,\n",
       "        98.76175941,  84.92214079, 114.23918033, 118.36538303,\n",
       "        90.35813722, 101.79175225, 116.53997245,  60.9097576 ,\n",
       "       102.34951322,  61.85086224,  81.5418147 , 109.39502868,\n",
       "        97.11266474,  91.99723296,  94.08032294, 116.96417218,\n",
       "       114.1366091 ,  84.25462148, 105.8588145 ,  90.58385497,\n",
       "       148.08651212,  85.21286523,  93.74342485,  93.02236164,\n",
       "        91.21947528, 102.82208336, 105.4609864 ,  67.62858504,\n",
       "        88.53773277,  73.59104908, 124.72410652, 149.30650164,\n",
       "       127.66464459, 106.92466231, 120.45032214, 103.33620534,\n",
       "       133.13433249, 113.35779218,  95.40106712,  77.40897611,\n",
       "        87.20074792, 106.27661043,  75.48328039,  95.56413727,\n",
       "       126.7985262 , 100.58619422, 139.70771492, 128.94331201,\n",
       "        94.24741173,  72.81378854,  99.0391735 ,  90.3842532 ,\n",
       "       107.55506172, 132.28815948,  77.5379193 ,  92.22544106,\n",
       "       106.64699899, 122.69946346, 110.21428823, 108.28595282,\n",
       "       126.89098847, 109.87030634,  95.25991631, 101.145703  ,\n",
       "        85.85857106, 110.93329675, 118.85000818,  40.40806458,\n",
       "       124.36297701,  98.86958554, 109.21776905, 113.24748023,\n",
       "        54.09793342,  76.08141377,  93.33797676,  84.17218458,\n",
       "       105.48345562,  89.70180155,  65.77857606, 112.24594625,\n",
       "       122.00258748, 111.28705053,  85.74401126,  94.78281043,\n",
       "       110.96856133, 112.063981  , 120.13722277,  94.11147985,\n",
       "        71.5823897 ,  86.42106451, 110.67769619, 114.87948808,\n",
       "       144.50099278, 102.3436284 , 104.89229041,  96.45402355,\n",
       "        91.88540945, 115.63550381, 107.06955228,  95.85441029,\n",
       "        78.40605232,  97.53860343,  92.18035629, 125.10347463,\n",
       "       118.94252156,  79.55378615, 123.34336737,  88.56046373])"
      ]
     },
     "execution_count": 60,
     "metadata": {},
     "output_type": "execute_result"
    }
   ],
   "source": [
    "data"
   ]
  },
  {
   "cell_type": "code",
   "execution_count": null,
   "id": "f4dd450d",
   "metadata": {},
   "outputs": [],
   "source": []
  }
 ],
 "metadata": {
  "kernelspec": {
   "display_name": "conda_python3",
   "language": "python",
   "name": "conda_python3"
  },
  "language_info": {
   "codemirror_mode": {
    "name": "ipython",
    "version": 3
   },
   "file_extension": ".py",
   "mimetype": "text/x-python",
   "name": "python",
   "nbconvert_exporter": "python",
   "pygments_lexer": "ipython3",
   "version": "3.6.13"
  }
 },
 "nbformat": 4,
 "nbformat_minor": 5
}
